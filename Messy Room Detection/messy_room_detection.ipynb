{
 "cells": [
  {
   "cell_type": "markdown",
   "metadata": {},
   "source": [
    "# Messy vs Clean Room Detection using CNN and TensorFlow\n",
    "\n",
    "- Nama : Andi Dwi Prastyo\n",
    "- Instansi : Politeknik Negeri Malang\n",
    "- Jurusan : Teknologi Informasi\n",
    "- Prodi : D4 - Teknik Informatika"
   ]
  },
  {
   "cell_type": "markdown",
   "metadata": {},
   "source": [
    "### Import Libraries"
   ]
  },
  {
   "cell_type": "code",
   "execution_count": 9,
   "metadata": {},
   "outputs": [],
   "source": [
    "import numpy as np \n",
    "import pandas as pd \n",
    "import os\n",
    "\n",
    "import matplotlib.pyplot as plt\n",
    "import seaborn as sns \n",
    "\n",
    "import cv2\n",
    "import tensorflow as tf\n",
    "from tensorflow.keras.preprocessing import image\n",
    "from tensorflow.keras.preprocessing.image import ImageDataGenerator"
   ]
  },
  {
   "cell_type": "markdown",
   "metadata": {},
   "source": [
    "### Image Directory"
   ]
  },
  {
   "cell_type": "code",
   "execution_count": 6,
   "metadata": {},
   "outputs": [],
   "source": [
    "base_dir = './images/'\n",
    "train_dir = os.path.join(base_dir, 'train')\n",
    "validation_dir = os.path.join(base_dir, 'val')"
   ]
  },
  {
   "cell_type": "markdown",
   "metadata": {},
   "source": [
    "### Image Augmentation"
   ]
  },
  {
   "cell_type": "code",
   "execution_count": 4,
   "metadata": {},
   "outputs": [],
   "source": [
    "train_datagen = ImageDataGenerator(rescale=1./255, shear_range=0.2, rotation_range=20, horizontal_flip=True, fill_mode='nearest')\n",
    "test_datagen = ImageDataGenerator(rescale=1./255)"
   ]
  },
  {
   "cell_type": "code",
   "execution_count": 17,
   "metadata": {},
   "outputs": [
    {
     "name": "stdout",
     "output_type": "stream",
     "text": [
      "Found 192 images belonging to 2 classes.\n",
      "Found 20 images belonging to 2 classes.\n"
     ]
    }
   ],
   "source": [
    "train_generator = train_datagen.flow_from_directory(train_dir, target_size=(150,150), batch_size=4, class_mode='binary')\n",
    "validation_generator = test_datagen.flow_from_directory(validation_dir, target_size=(150,150), batch_size=4, class_mode='binary')"
   ]
  },
  {
   "cell_type": "markdown",
   "metadata": {},
   "source": [
    "### CNN Modelling"
   ]
  },
  {
   "cell_type": "code",
   "execution_count": 18,
   "metadata": {},
   "outputs": [],
   "source": [
    "cnn = tf.keras.models.Sequential([\n",
    "\ttf.keras.layers.Conv2D(32, (3,3), activation='relu', input_shape=(150,150,3)),\n",
    "\ttf.keras.layers.MaxPooling2D(2,2),\n",
    "\ttf.keras.layers.Conv2D(64, (3,3), activation='relu'),\n",
    "\ttf.keras.layers.MaxPooling2D(2,2),\n",
    "\ttf.keras.layers.Conv2D(128, (3,3), activation='relu'),\n",
    "\ttf.keras.layers.MaxPooling2D(2,2),\n",
    "\ttf.keras.layers.Conv2D(256, (3,3), activation='relu'),\n",
    "\ttf.keras.layers.MaxPooling2D(2,2),\n",
    " \ttf.keras.layers.Conv2D(512, (3,3), activation='relu'),\n",
    "\ttf.keras.layers.MaxPooling2D(2,2),\n",
    "\ttf.keras.layers.Flatten(),\n",
    "\ttf.keras.layers.Dense(512, activation='relu'),\n",
    "\ttf.keras.layers.Dense(1, activation='sigmoid')\n",
    "])"
   ]
  },
  {
   "cell_type": "code",
   "execution_count": 19,
   "metadata": {},
   "outputs": [
    {
     "name": "stdout",
     "output_type": "stream",
     "text": [
      "Model: \"sequential_1\"\n",
      "_________________________________________________________________\n",
      " Layer (type)                Output Shape              Param #   \n",
      "=================================================================\n",
      " conv2d_5 (Conv2D)           (None, 148, 148, 32)      896       \n",
      "                                                                 \n",
      " max_pooling2d_5 (MaxPoolin  (None, 74, 74, 32)        0         \n",
      " g2D)                                                            \n",
      "                                                                 \n",
      " conv2d_6 (Conv2D)           (None, 72, 72, 64)        18496     \n",
      "                                                                 \n",
      " max_pooling2d_6 (MaxPoolin  (None, 36, 36, 64)        0         \n",
      " g2D)                                                            \n",
      "                                                                 \n",
      " conv2d_7 (Conv2D)           (None, 34, 34, 128)       73856     \n",
      "                                                                 \n",
      " max_pooling2d_7 (MaxPoolin  (None, 17, 17, 128)       0         \n",
      " g2D)                                                            \n",
      "                                                                 \n",
      " conv2d_8 (Conv2D)           (None, 15, 15, 256)       295168    \n",
      "                                                                 \n",
      " max_pooling2d_8 (MaxPoolin  (None, 7, 7, 256)         0         \n",
      " g2D)                                                            \n",
      "                                                                 \n",
      " conv2d_9 (Conv2D)           (None, 5, 5, 512)         1180160   \n",
      "                                                                 \n",
      " max_pooling2d_9 (MaxPoolin  (None, 2, 2, 512)         0         \n",
      " g2D)                                                            \n",
      "                                                                 \n",
      " flatten_1 (Flatten)         (None, 2048)              0         \n",
      "                                                                 \n",
      " dense_2 (Dense)             (None, 512)               1049088   \n",
      "                                                                 \n",
      " dense_3 (Dense)             (None, 1)                 513       \n",
      "                                                                 \n",
      "=================================================================\n",
      "Total params: 2618177 (9.99 MB)\n",
      "Trainable params: 2618177 (9.99 MB)\n",
      "Non-trainable params: 0 (0.00 Byte)\n",
      "_________________________________________________________________\n"
     ]
    }
   ],
   "source": [
    "cnn.summary()"
   ]
  },
  {
   "cell_type": "markdown",
   "metadata": {},
   "source": [
    "### Compiling the CNN Model"
   ]
  },
  {
   "cell_type": "code",
   "execution_count": 20,
   "metadata": {},
   "outputs": [],
   "source": [
    "cnn.compile(loss='binary_crossentropy', optimizer=tf.keras.optimizers.Adam(), metrics=['accuracy'])"
   ]
  },
  {
   "cell_type": "markdown",
   "metadata": {},
   "source": [
    "### Training the CNN Model"
   ]
  },
  {
   "cell_type": "code",
   "execution_count": 21,
   "metadata": {},
   "outputs": [
    {
     "name": "stdout",
     "output_type": "stream",
     "text": [
      "Epoch 1/30\n",
      "25/25 - 5s - loss: 0.7169 - accuracy: 0.4600 - val_loss: 0.6931 - val_accuracy: 0.5000 - 5s/epoch - 181ms/step\n",
      "Epoch 2/30\n",
      "25/25 - 3s - loss: 0.6934 - accuracy: 0.5000 - val_loss: 0.6929 - val_accuracy: 0.5000 - 3s/epoch - 138ms/step\n",
      "Epoch 3/30\n",
      "25/25 - 3s - loss: 0.6939 - accuracy: 0.4800 - val_loss: 0.6927 - val_accuracy: 0.5000 - 3s/epoch - 133ms/step\n",
      "Epoch 4/30\n",
      "25/25 - 3s - loss: 0.7497 - accuracy: 0.5500 - val_loss: 0.6916 - val_accuracy: 0.5000 - 3s/epoch - 133ms/step\n",
      "Epoch 5/30\n",
      "25/25 - 3s - loss: 0.6983 - accuracy: 0.4400 - val_loss: 0.6930 - val_accuracy: 0.6000 - 3s/epoch - 134ms/step\n",
      "Epoch 6/30\n",
      "25/25 - 3s - loss: 0.6939 - accuracy: 0.4900 - val_loss: 0.6932 - val_accuracy: 0.5000 - 3s/epoch - 134ms/step\n",
      "Epoch 7/30\n",
      "25/25 - 4s - loss: 0.6931 - accuracy: 0.5300 - val_loss: 0.6932 - val_accuracy: 0.5000 - 4s/epoch - 140ms/step\n",
      "Epoch 8/30\n",
      "25/25 - 3s - loss: 0.6937 - accuracy: 0.4500 - val_loss: 0.6931 - val_accuracy: 0.5000 - 3s/epoch - 135ms/step\n",
      "Epoch 9/30\n",
      "25/25 - 3s - loss: 0.6929 - accuracy: 0.5600 - val_loss: 0.6930 - val_accuracy: 0.5000 - 3s/epoch - 133ms/step\n",
      "Epoch 10/30\n",
      "25/25 - 3s - loss: 0.6931 - accuracy: 0.4900 - val_loss: 0.6902 - val_accuracy: 0.5000 - 3s/epoch - 134ms/step\n",
      "Epoch 11/30\n",
      "25/25 - 3s - loss: 0.6931 - accuracy: 0.5400 - val_loss: 0.6713 - val_accuracy: 0.8000 - 3s/epoch - 135ms/step\n",
      "Epoch 12/30\n",
      "25/25 - 3s - loss: 0.6969 - accuracy: 0.5600 - val_loss: 0.6920 - val_accuracy: 0.5000 - 3s/epoch - 135ms/step\n",
      "Epoch 13/30\n",
      "25/25 - 3s - loss: 0.6952 - accuracy: 0.4600 - val_loss: 0.6850 - val_accuracy: 0.6000 - 3s/epoch - 136ms/step\n",
      "Epoch 14/30\n",
      "25/25 - 3s - loss: 0.6448 - accuracy: 0.7100 - val_loss: 0.5264 - val_accuracy: 0.7500 - 3s/epoch - 134ms/step\n",
      "Epoch 15/30\n",
      "25/25 - 3s - loss: 0.6743 - accuracy: 0.6300 - val_loss: 0.6292 - val_accuracy: 0.5500 - 3s/epoch - 135ms/step\n",
      "Epoch 16/30\n",
      "25/25 - 3s - loss: 0.6219 - accuracy: 0.7400 - val_loss: 0.5173 - val_accuracy: 0.7500 - 3s/epoch - 133ms/step\n",
      "Epoch 17/30\n",
      "25/25 - 3s - loss: 0.6241 - accuracy: 0.7200 - val_loss: 0.5942 - val_accuracy: 0.6000 - 3s/epoch - 133ms/step\n",
      "Epoch 18/30\n",
      "25/25 - 3s - loss: 0.6434 - accuracy: 0.6500 - val_loss: 0.5957 - val_accuracy: 0.8000 - 3s/epoch - 137ms/step\n",
      "Epoch 19/30\n",
      "25/25 - 3s - loss: 0.5970 - accuracy: 0.7300 - val_loss: 0.4996 - val_accuracy: 0.8000 - 3s/epoch - 135ms/step\n",
      "Epoch 20/30\n",
      "25/25 - 3s - loss: 0.6025 - accuracy: 0.7200 - val_loss: 0.5882 - val_accuracy: 0.7500 - 3s/epoch - 134ms/step\n",
      "Epoch 21/30\n",
      "25/25 - 3s - loss: 0.5974 - accuracy: 0.6800 - val_loss: 0.5907 - val_accuracy: 0.7500 - 3s/epoch - 133ms/step\n",
      "Epoch 22/30\n",
      "25/25 - 3s - loss: 0.5634 - accuracy: 0.7500 - val_loss: 0.5483 - val_accuracy: 0.7000 - 3s/epoch - 135ms/step\n",
      "Epoch 23/30\n",
      "25/25 - 3s - loss: 0.4520 - accuracy: 0.8100 - val_loss: 0.5351 - val_accuracy: 0.6500 - 3s/epoch - 134ms/step\n",
      "Epoch 24/30\n",
      "25/25 - 3s - loss: 0.6278 - accuracy: 0.7300 - val_loss: 0.5282 - val_accuracy: 0.8500 - 3s/epoch - 133ms/step\n",
      "Epoch 25/30\n",
      "25/25 - 3s - loss: 0.4864 - accuracy: 0.7900 - val_loss: 0.5821 - val_accuracy: 0.7000 - 3s/epoch - 134ms/step\n",
      "Epoch 26/30\n",
      "25/25 - 3s - loss: 0.6807 - accuracy: 0.6700 - val_loss: 0.5897 - val_accuracy: 0.6500 - 3s/epoch - 132ms/step\n",
      "Epoch 27/30\n",
      "25/25 - 3s - loss: 0.4955 - accuracy: 0.7600 - val_loss: 0.5945 - val_accuracy: 0.6500 - 3s/epoch - 132ms/step\n",
      "Epoch 28/30\n",
      "25/25 - 3s - loss: 0.5408 - accuracy: 0.7400 - val_loss: 0.5483 - val_accuracy: 0.6000 - 3s/epoch - 134ms/step\n",
      "Epoch 29/30\n",
      "25/25 - 4s - loss: 0.5991 - accuracy: 0.7100 - val_loss: 0.5201 - val_accuracy: 0.8000 - 4s/epoch - 142ms/step\n",
      "Epoch 30/30\n",
      "25/25 - 3s - loss: 0.4703 - accuracy: 0.7900 - val_loss: 0.5279 - val_accuracy: 0.7000 - 3s/epoch - 135ms/step\n"
     ]
    },
    {
     "data": {
      "text/plain": [
       "<keras.src.callbacks.History at 0x7f150448b9d0>"
      ]
     },
     "execution_count": 21,
     "metadata": {},
     "output_type": "execute_result"
    }
   ],
   "source": [
    "cnn.fit(train_generator, steps_per_epoch=25, epochs=30, verbose=2, validation_data=validation_generator, validation_steps=5)"
   ]
  },
  {
   "cell_type": "markdown",
   "metadata": {},
   "source": [
    "### Evaluating the CNN Model"
   ]
  },
  {
   "cell_type": "code",
   "execution_count": 22,
   "metadata": {},
   "outputs": [
    {
     "ename": "NameError",
     "evalue": "name 'files' is not defined",
     "output_type": "error",
     "traceback": [
      "\u001b[0;31m---------------------------------------------------------------------------\u001b[0m",
      "\u001b[0;31mNameError\u001b[0m                                 Traceback (most recent call last)",
      "\u001b[1;32m/home/ubuntu/Documents/GitHub/TensorFlow-Projects/Messy Room Detection/messy_room_detection.ipynb Cell 17\u001b[0m line \u001b[0;36m1\n\u001b[0;32m----> <a href='vscode-notebook-cell:/home/ubuntu/Documents/GitHub/TensorFlow-Projects/Messy%20Room%20Detection/messy_room_detection.ipynb#X23sZmlsZQ%3D%3D?line=0'>1</a>\u001b[0m uploaded \u001b[39m=\u001b[39m files\u001b[39m.\u001b[39mupload()\n\u001b[1;32m      <a href='vscode-notebook-cell:/home/ubuntu/Documents/GitHub/TensorFlow-Projects/Messy%20Room%20Detection/messy_room_detection.ipynb#X23sZmlsZQ%3D%3D?line=2'>3</a>\u001b[0m \u001b[39mfor\u001b[39;00m fn \u001b[39min\u001b[39;00m uploaded\u001b[39m.\u001b[39mkeys():\n\u001b[1;32m      <a href='vscode-notebook-cell:/home/ubuntu/Documents/GitHub/TensorFlow-Projects/Messy%20Room%20Detection/messy_room_detection.ipynb#X23sZmlsZQ%3D%3D?line=3'>4</a>\u001b[0m \n\u001b[1;32m      <a href='vscode-notebook-cell:/home/ubuntu/Documents/GitHub/TensorFlow-Projects/Messy%20Room%20Detection/messy_room_detection.ipynb#X23sZmlsZQ%3D%3D?line=4'>5</a>\u001b[0m   \u001b[39m# predicting images\u001b[39;00m\n\u001b[1;32m      <a href='vscode-notebook-cell:/home/ubuntu/Documents/GitHub/TensorFlow-Projects/Messy%20Room%20Detection/messy_room_detection.ipynb#X23sZmlsZQ%3D%3D?line=5'>6</a>\u001b[0m   path \u001b[39m=\u001b[39m fn\n",
      "\u001b[0;31mNameError\u001b[0m: name 'files' is not defined"
     ]
    }
   ],
   "source": [
    "uploaded = files.upload()\n",
    "\n",
    "for fn in uploaded.keys():\n",
    "\n",
    "  # predicting images\n",
    "  path = fn\n",
    "  img = image.load_img(path, target_size=(150,150))\n",
    "\n",
    "  imgplot = plt.imshow(img)\n",
    "  x = image.img_to_array(img)\n",
    "  x = np.expand_dims(x, axis=0)\n",
    "  images = np.vstack([x])\n",
    "\n",
    "  classes = model.predict(images, batch_size=10)\n",
    "  print(fn)\n",
    "  if classes==0:\n",
    "   print('clean')\n",
    "  else:\n",
    "   print('messy')"
   ]
  }
 ],
 "metadata": {
  "kernelspec": {
   "display_name": "Python 3",
   "language": "python",
   "name": "python3"
  },
  "language_info": {
   "codemirror_mode": {
    "name": "ipython",
    "version": 3
   },
   "file_extension": ".py",
   "mimetype": "text/x-python",
   "name": "python",
   "nbconvert_exporter": "python",
   "pygments_lexer": "ipython3",
   "version": "3.10.12"
  }
 },
 "nbformat": 4,
 "nbformat_minor": 2
}
